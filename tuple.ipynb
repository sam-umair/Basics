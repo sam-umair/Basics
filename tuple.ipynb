{
 "cells": [
  {
   "cell_type": "code",
   "execution_count": 2,
   "id": "79deefd5",
   "metadata": {},
   "outputs": [
    {
     "name": "stdout",
     "output_type": "stream",
     "text": [
      "(2, 3, 4)\n"
     ]
    }
   ],
   "source": [
    "# Slicing from the end of a tuple\n",
    "my_tuple = (0,1,2,3,4,5)\n",
    "sliced = my_tuple[-4:-1]\n",
    "print(sliced)  # Output: (2, 3, 4)"
   ]
  },
  {
   "cell_type": "code",
   "execution_count": 3,
   "id": "4aff0300",
   "metadata": {},
   "outputs": [
    {
     "name": "stdout",
     "output_type": "stream",
     "text": [
      "(5, 4, 3, 2, 1, 0)\n"
     ]
    }
   ],
   "source": [
    "#REversing the tuple using a negative step:\n",
    "my_tuple = (0,1,2,3,4,5)\n",
    "sliced = my_tuple[::-1]\n",
    "print(sliced)  # Output: (5, 4, 3, 2, 1, 0)"
   ]
  },
  {
   "cell_type": "code",
   "execution_count": 4,
   "id": "57d41b79",
   "metadata": {},
   "outputs": [
    {
     "name": "stdout",
     "output_type": "stream",
     "text": [
      "(5, 3, 1)\n"
     ]
    }
   ],
   "source": [
    "#Combining slices\n",
    "# Extracring every secong element starting from the end\n",
    "my_tuple = (0,1,2,3,4,5)\n",
    "sliced = my_tuple[-1::-2]\n",
    "print(sliced)"
   ]
  },
  {
   "cell_type": "code",
   "execution_count": null,
   "id": "0ef1bc03",
   "metadata": {},
   "outputs": [],
   "source": []
  }
 ],
 "metadata": {
  "kernelspec": {
   "display_name": "Python 3",
   "language": "python",
   "name": "python3"
  },
  "language_info": {
   "codemirror_mode": {
    "name": "ipython",
    "version": 3
   },
   "file_extension": ".py",
   "mimetype": "text/x-python",
   "name": "python",
   "nbconvert_exporter": "python",
   "pygments_lexer": "ipython3",
   "version": "3.11.9"
  }
 },
 "nbformat": 4,
 "nbformat_minor": 5
}
