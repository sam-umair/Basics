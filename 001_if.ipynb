{
 "cells": [
  {
   "cell_type": "code",
   "execution_count": 4,
   "metadata": {},
   "outputs": [
    {
     "name": "stdout",
     "output_type": "stream",
     "text": [
      "Number is odd: 5\n"
     ]
    }
   ],
   "source": [
    "num = input(\"Enter a number:\")\n",
    "num = int(num)\n",
    "if num %2==0:\n",
    "    print(\"Number is Even:\", num)\n",
    "else:\n",
    "    print(\"Number is odd:\", num)"
   ]
  },
  {
   "cell_type": "markdown",
   "metadata": {},
   "source": [
    "Write a program to ask user to enter a dish name and should print which cuisine is that dish"
   ]
  },
  {
   "cell_type": "code",
   "execution_count": 2,
   "metadata": {},
   "outputs": [
    {
     "name": "stdout",
     "output_type": "stream",
     "text": [
      "Chinese dish: egg rolls\n"
     ]
    }
   ],
   "source": [
    "pakistani= ['biryani', 'karahi', 'nehari']\n",
    "chinese= ['chowmein', 'manchurian', 'egg rolls']\n",
    "italian= ['pizza', 'pasta', 'lasagna']\n",
    "\n",
    "dish = input(\"Enter a dish name:\")\n",
    "if dish in pakistani:\n",
    "    print(\"Pakistani dish:\", dish)\n",
    "elif dish in chinese:\n",
    "    print(\"Chinese dish:\", dish)\n",
    "elif dish in italian:\n",
    "    print(\"Italian dish:\", dish)\n",
    "else:\n",
    "    print(\"Dish not found in any category.\")        \n",
    "    "
   ]
  },
  {
   "cell_type": "code",
   "execution_count": null,
   "metadata": {},
   "outputs": [],
   "source": []
  }
 ],
 "metadata": {
  "kernelspec": {
   "display_name": "Python 3",
   "language": "python",
   "name": "python3"
  },
  "language_info": {
   "codemirror_mode": {
    "name": "ipython",
    "version": 3
   },
   "file_extension": ".py",
   "mimetype": "text/x-python",
   "name": "python",
   "nbconvert_exporter": "python",
   "pygments_lexer": "ipython3",
   "version": "3.11.9"
  }
 },
 "nbformat": 4,
 "nbformat_minor": 2
}
