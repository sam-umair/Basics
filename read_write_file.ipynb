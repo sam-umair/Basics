{
 "cells": [
  {
   "cell_type": "code",
   "execution_count": 2,
   "metadata": {},
   "outputs": [],
   "source": [
    "import os\n",
    "\n",
    "# Ensure the directory exists\n",
    "os.makedirs(\"C:\\\\data\", exist_ok=True)\n",
    "\n",
    "# Write to the file\n",
    "f = open(\"C:\\\\data\\\\funny.txt\", \"w\")\n",
    "f.write(\"I Love Python\")\n",
    "f.close()\n",
    "\n"
   ]
  },
  {
   "cell_type": "code",
   "execution_count": 3,
   "metadata": {},
   "outputs": [],
   "source": [
    "f = open(\"C:\\\\data\\\\funny.txt\", \"a\")\n",
    "f.write(\"\\nI Love PHP\")\n",
    "f.close()"
   ]
  },
  {
   "cell_type": "code",
   "execution_count": 4,
   "metadata": {},
   "outputs": [],
   "source": [
    "import os\n",
    "\n",
    "# Ensure the directory exists\n",
    "os.makedirs(\"D:\\\\data_science_course\\\\vscode\\\\basics\\\\data\", exist_ok=True)\n",
    "\n"
   ]
  },
  {
   "cell_type": "code",
   "execution_count": 5,
   "metadata": {},
   "outputs": [],
   "source": [
    "# Write to the file\n",
    "f = open(\"D:\\\\data_science_course\\\\vscode\\\\basics\\\\data\\\\funny.txt\", \"w\")\n",
    "f.write(\"I Love Python\")\n",
    "f.write(\"\\nI Love PHP\")\n",
    "f.close()"
   ]
  },
  {
   "cell_type": "code",
   "execution_count": 6,
   "metadata": {},
   "outputs": [],
   "source": [
    "f = open(\"D:\\\\data_science_course\\\\vscode\\\\basics\\\\data\\\\dialogues.txt\", \"w\")\n",
    "f.write(\"Teacher: Why are you late, Frank?\")\n",
    "f.write(\"\\nFrank: because of the sign.\")\n",
    "f.write(\"\\nTeacher: What sign?\")\n",
    "f.write(\"\\nFrank: The sign said, 'School Ahead, Go Slow!'\")\n",
    "f.write(\"\\nTeacher: That's a good reason.\")\n",
    "f.close()"
   ]
  },
  {
   "cell_type": "code",
   "execution_count": 7,
   "metadata": {},
   "outputs": [
    {
     "name": "stdout",
     "output_type": "stream",
     "text": [
      "I Love Python\n",
      "I Love PHP\n"
     ]
    }
   ],
   "source": [
    "f = open(\"D:\\\\data_science_course\\\\vscode\\\\basics\\\\data\\\\funny.txt\", \"r\")\n",
    "print(f.read())\n",
    "f.close()"
   ]
  },
  {
   "cell_type": "code",
   "execution_count": 8,
   "metadata": {},
   "outputs": [
    {
     "name": "stdout",
     "output_type": "stream",
     "text": [
      "Teacher: Why are you late, Frank?\n",
      "Frank: because of the sign.\n",
      "Teacher: What sign?\n",
      "Frank: The sign said, 'School Ahead, Go Slow!'\n",
      "Teacher: That's a good reason.\n"
     ]
    }
   ],
   "source": [
    "f = open(\"D:\\\\data_science_course\\\\vscode\\\\basics\\\\data\\\\dialogues.txt\", \"r\")\n",
    "print(f.read())\n",
    "f.close()"
   ]
  },
  {
   "cell_type": "code",
   "execution_count": 10,
   "metadata": {},
   "outputs": [
    {
     "name": "stdout",
     "output_type": "stream",
     "text": [
      "['Teacher:', 'Why', 'are', 'you', 'late,', 'Frank?\\n']\n",
      "['Frank:', 'because', 'of', 'the', 'sign.\\n']\n",
      "['Teacher:', 'What', 'sign?\\n']\n",
      "['Frank:', 'The', 'sign', 'said,', \"'School\", 'Ahead,', 'Go', \"Slow!'\\n\"]\n",
      "['Teacher:', \"That's\", 'a', 'good', 'reason.']\n"
     ]
    }
   ],
   "source": [
    "f = open(\"D:\\\\data_science_course\\\\vscode\\\\basics\\\\data\\\\dialogues.txt\", \"r\")\n",
    "for line in f:\n",
    "    tokens = line.split(' ')\n",
    "    print(str(tokens))\n",
    "f.close()"
   ]
  },
  {
   "cell_type": "code",
   "execution_count": 12,
   "metadata": {},
   "outputs": [
    {
     "name": "stdout",
     "output_type": "stream",
     "text": [
      "6\n",
      "5\n",
      "3\n",
      "8\n",
      "5\n"
     ]
    }
   ],
   "source": [
    "f = open(\"D:\\\\data_science_course\\\\vscode\\\\basics\\\\data\\\\dialogues.txt\", \"r\")\n",
    "for line in f:\n",
    "    tokens = line.split(' ')\n",
    "    print(len(tokens))\n",
    "f.close()"
   ]
  },
  {
   "cell_type": "code",
   "execution_count": 16,
   "metadata": {},
   "outputs": [],
   "source": [
    "f = open(\"D:\\\\data_science_course\\\\vscode\\\\basics\\\\data\\\\dialogues.txt\", \"r\")\n",
    "f_out= open(\"D:\\\\data_science_course\\\\vscode\\\\basics\\\\data\\\\dialogues_out.txt\", \"w\")\n",
    "for line in f:\n",
    "    tokens = line.split(' ')\n",
    "    f_out.write(\"wordcount:\"+str(len(tokens))+line)\n",
    "    \n",
    "f.close()\n",
    "f_out.close()"
   ]
  },
  {
   "cell_type": "code",
   "execution_count": null,
   "metadata": {},
   "outputs": [
    {
     "name": "stdout",
     "output_type": "stream",
     "text": [
      "True\n"
     ]
    }
   ],
   "source": [
    "print(f.closed)  #its used to check if the file is closed or not\n"
   ]
  },
  {
   "cell_type": "code",
   "execution_count": null,
   "metadata": {},
   "outputs": [],
   "source": []
  }
 ],
 "metadata": {
  "kernelspec": {
   "display_name": "Python 3",
   "language": "python",
   "name": "python3"
  },
  "language_info": {
   "codemirror_mode": {
    "name": "ipython",
    "version": 3
   },
   "file_extension": ".py",
   "mimetype": "text/x-python",
   "name": "python",
   "nbconvert_exporter": "python",
   "pygments_lexer": "ipython3",
   "version": "3.11.9"
  }
 },
 "nbformat": 4,
 "nbformat_minor": 2
}
