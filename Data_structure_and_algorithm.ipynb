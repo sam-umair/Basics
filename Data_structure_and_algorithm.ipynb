{
 "cells": [
  {
   "cell_type": "markdown",
   "metadata": {},
   "source": [
    "# Data Structure and Algorithms\n",
    "### Measuring time complexity\n",
    "##### Big O notation is used to measure how running time or space requirements for your program grow as input size grows"
   ]
  },
  {
   "cell_type": "code",
   "execution_count": 1,
   "metadata": {},
   "outputs": [
    {
     "data": {
      "text/plain": [
       "[4, 25, 64, 81]"
      ]
     },
     "execution_count": 1,
     "metadata": {},
     "output_type": "execute_result"
    }
   ],
   "source": [
    "def get_squared_numbers(numbers):\n",
    "    squared_numbers = []\n",
    "    for n in numbers:\n",
    "        squared_numbers.append(n*n)\n",
    "    return squared_numbers\n",
    "\n",
    "numbers = [2,5,8,9]\n",
    "get_squared_numbers(numbers)\n",
    "    \n",
    "    \n"
   ]
  },
  {
   "cell_type": "code",
   "execution_count": 5,
   "metadata": {},
   "outputs": [
    {
     "name": "stdout",
     "output_type": "stream",
     "text": [
      "3 is a duplicate\n",
      "6 is a duplicate\n"
     ]
    }
   ],
   "source": [
    "numbers = [3,6,2,4,3,6,8,9]\n",
    "\n",
    "for i in range(len(numbers)):\n",
    "    for j in range(i+1, len(numbers)):\n",
    "        if numbers[i] == numbers[j]:\n",
    "            print(str(numbers[i]) + \" is a duplicate\")\n",
    "            break"
   ]
  },
  {
   "cell_type": "code",
   "execution_count": 7,
   "metadata": {},
   "outputs": [
    {
     "name": "stdout",
     "output_type": "stream",
     "text": [
      "0\n",
      "4\n"
     ]
    }
   ],
   "source": [
    "duplicate = 3  # Define the duplicate value you want to check for\n",
    "for i in range(len(numbers)):\n",
    "    if numbers[i] == duplicate:\n",
    "        print(i)"
   ]
  },
  {
   "cell_type": "code",
   "execution_count": 8,
   "metadata": {},
   "outputs": [
    {
     "name": "stdout",
     "output_type": "stream",
     "text": [
      "6\n"
     ]
    }
   ],
   "source": [
    "numbers = [4,9,15,21,34,57,68,91]\n",
    "\n",
    "for i in range(len(numbers)):\n",
    "    if numbers[i] == 68:\n",
    "        print(i)"
   ]
  },
  {
   "cell_type": "code",
   "execution_count": 14,
   "metadata": {},
   "outputs": [
    {
     "name": "stdout",
     "output_type": "stream",
     "text": [
      "3\n"
     ]
    }
   ],
   "source": [
    "stock_prices = [298,305,320,301,292]\n",
    "\n",
    "for i in range(len(stock_prices)):\n",
    "    if stock_prices[i] == 301:\n",
    "        print(i)"
   ]
  },
  {
   "cell_type": "markdown",
   "metadata": {},
   "source": [
    "#### 1. Let us say your expense for every month are listed below,\n",
    "##### i- January = 2200\n",
    "##### ii- February = 2350\n",
    "##### iii- March = 2600\n",
    "##### iv- April = 2130\n",
    "##### v- May = 2190\n",
    "\n",
    "#### Create a list to store these monthly expenses and usinng that find out\n",
    "\n",
    "##### 1- In feb, how many dollars you spent extra compare to january?\n",
    "##### 2- Find out your expense in first quarter (first three months) of the year\n",
    "##### 3- Find out if you spent exactly 2000 $ in any month\n",
    "##### 4- June month just finished and your expense is 1980 $. Add this item to our monthly expenses list\n",
    "##### 5- You returned an item that you bought in a month of April and got refund of 2005. Make a correction to your monthly expense list based on this"
   ]
  },
  {
   "cell_type": "markdown",
   "metadata": {},
   "source": [
    "#### 1. Let us say your expense for every month are listed below,\n",
    "##### i- January = 2200\n",
    "##### ii- February = 2350\n",
    "##### iii- March = 2600\n",
    "##### iv- April = 2130\n",
    "##### v- May = 2190\n",
    "\n",
    "#### Create a list to store these monthly expenses and usinng that find out\n",
    "\n",
    "##### 1- In feb, how many dollars you spent extra compare to january?\n",
    "##### 2- Find out your expense in first quarter (first three months) of the year\n",
    "##### 3- Find out if you spent exactly 2000 $ in any month\n",
    "##### 4- June month just finished and your expense is 1980 $. Add this item to our monthly expenses list\n",
    "##### 5- You returned an item that you bought in a month of April and got refund of 2005. Make a correction to your monthly expense list based on this"
   ]
  },
  {
   "cell_type": "markdown",
   "metadata": {},
   "source": [
    "#### 1. Let us say your expense for every month are listed below,\n",
    "##### i- January = 2200\n",
    "##### ii- February = 2350\n",
    "##### iii- March = 2600\n",
    "##### iv- April = 2130\n",
    "##### v- May = 2190\n",
    "\n",
    "#### Create a list to store these monthly expenses and usinng that find out\n",
    "\n",
    "##### 1- In feb, how many dollars you spent extra compare to january?\n",
    "##### 2- Find out your expense in first quarter (first three months) of the year\n",
    "##### 3- Find out if you spent exactly 2000 $ in any month\n",
    "##### 4- June month just finished and your expense is 1980 $. Add this item to our monthly expenses list\n",
    "##### 5- You returned an item that you bought in a month of April and got refund of 2005. Make a correction to your monthly expense list based on this"
   ]
  },
  {
   "cell_type": "code",
   "execution_count": 28,
   "metadata": {},
   "outputs": [
    {
     "name": "stdout",
     "output_type": "stream",
     "text": [
      "Extra expense in Feb compared to Jan: 150\n"
     ]
    }
   ],
   "source": [
    "# Creating list of Month expenses\n",
    "monthly_expenses = [2200,2350,2600,2130,2190]\n",
    "\n",
    "#In feb, how many $ you spent extra compare to Jan\n",
    "extra_feb_expense = monthly_expenses[1] - monthly_expenses[0]\n",
    "print(\"Extra expense in Feb compared to Jan:\", extra_feb_expense)"
   ]
  },
  {
   "cell_type": "code",
   "execution_count": 29,
   "metadata": {},
   "outputs": [
    {
     "name": "stdout",
     "output_type": "stream",
     "text": [
      "First quarter expenses: 7150\n"
     ]
    }
   ],
   "source": [
    "#Find out the expense in first quarter (first three months) of the year\n",
    "first_quarter_expense = sum(monthly_expenses[:3])\n",
    "print(f\"First quarter expenses:\", first_quarter_expense)"
   ]
  },
  {
   "cell_type": "code",
   "execution_count": 30,
   "metadata": {},
   "outputs": [
    {
     "name": "stdout",
     "output_type": "stream",
     "text": [
      "No, you didn't spent 2000$ in any month.\n"
     ]
    }
   ],
   "source": [
    "#Find out if there is any month in which you spent exactly 2000 dollars\n",
    "spent_2000 = 2000 in monthly_expenses\n",
    "if spent_2000:\n",
    "    print(\"Yes, you spent 2000$ in a month.\")\n",
    "else:\n",
    "    print(\"No, you didn't spent 2000$ in any month.\")\n"
   ]
  },
  {
   "cell_type": "code",
   "execution_count": 31,
   "metadata": {},
   "outputs": [
    {
     "name": "stdout",
     "output_type": "stream",
     "text": [
      "Updated monthly expenses: [2200, 2350, 2600, 2130, 2190, 1980]\n"
     ]
    }
   ],
   "source": [
    "#Add June expense to the list\n",
    "monthly_expenses.append(1980)\n",
    "print(\"Updated monthly expenses:\", monthly_expenses)"
   ]
  },
  {
   "cell_type": "code",
   "execution_count": 32,
   "metadata": {},
   "outputs": [
    {
     "name": "stdout",
     "output_type": "stream",
     "text": [
      "Updated monthly expenses after refund: [2200, 2350, 2600, 125, 2190, 1980]\n"
     ]
    }
   ],
   "source": [
    "#MAke correction to April's expense after refund\n",
    "monthly_expenses[3] -= 2005\n",
    "print(\"Updated monthly expenses after refund:\", monthly_expenses)"
   ]
  },
  {
   "cell_type": "code",
   "execution_count": 1,
   "metadata": {},
   "outputs": [
    {
     "name": "stdout",
     "output_type": "stream",
     "text": [
      "a: 6\n",
      "b: 5\n",
      "total inside function: 11\n",
      "Total outside function 11\n"
     ]
    }
   ],
   "source": [
    "def sum(a,b):\n",
    "    print(\"a:\", a)\n",
    "    print(\"b:\", b)\n",
    "\n",
    "    total = a+b\n",
    "    print(\"total inside function:\",total)\n",
    "    return total\n",
    "\n",
    "n = sum(b=5,a=6)\n",
    "print(\"Total outside function\", n)"
   ]
  },
  {
   "cell_type": "code",
   "execution_count": 2,
   "metadata": {},
   "outputs": [
    {
     "name": "stdout",
     "output_type": "stream",
     "text": [
      "    January 2016\n",
      "Mo Tu We Th Fr Sa Su\n",
      "             1  2  3\n",
      " 4  5  6  7  8  9 10\n",
      "11 12 13 14 15 16 17\n",
      "18 19 20 21 22 23 24\n",
      "25 26 27 28 29 30 31\n",
      "\n"
     ]
    }
   ],
   "source": [
    "import calendar\n",
    "cal = calendar.month(2016,1)\n",
    "print(cal)"
   ]
  },
  {
   "cell_type": "code",
   "execution_count": 3,
   "metadata": {},
   "outputs": [
    {
     "data": {
      "text/plain": [
       "False"
      ]
     },
     "execution_count": 3,
     "metadata": {},
     "output_type": "execute_result"
    }
   ],
   "source": [
    "calendar.isleap(2025)"
   ]
  },
  {
   "cell_type": "code",
   "execution_count": 6,
   "metadata": {},
   "outputs": [
    {
     "name": "stdout",
     "output_type": "stream",
     "text": [
      "{\"tom\": {\"name\": \"Tom\", \"address\": \"123 Main St\", \"phone\": \"555-1234\"}, \"jerry\": {\"name\": \"Jerry\", \"address\": \"456 Elm St\", \"phone\": \"555-5678\"}, \"spike\": {\"name\": \"Spike\", \"address\": \"789 Oak St\", \"phone\": \"555-9012\"}}\n",
      "{\"tom\": {\"name\": \"Tom\", \"address\": \"123 Main St\", \"phone\": \"555-1234\"}, \"jerry\": {\"name\": \"Jerry\", \"address\": \"456 Elm St\", \"phone\": \"555-5678\"}, \"spike\": {\"name\": \"Spike\", \"address\": \"789 Oak St\", \"phone\": \"555-9012\"}}\n"
     ]
    }
   ],
   "source": [
    "book= {}\n",
    "book['tom'] = {\n",
    "    'name': 'Tom',\n",
    "    'address': '123 Main St',\n",
    "    'phone': '555-1234'\n",
    "}\n",
    "book['jerry'] = {\n",
    "    'name': 'Jerry',\n",
    "    'address': '456 Elm St',\n",
    "    'phone': '555-5678'\n",
    "}\n",
    "book['spike'] = {\n",
    "    'name': 'Spike',\n",
    "    'address': '789 Oak St',\n",
    "    'phone': '555-9012'\n",
    "}\n",
    "import json\n",
    "book_json = json.dumps(book)\n",
    "print(book_json)\n",
    "with open('book.json', 'w') as f:\n",
    "    f.write(book_json)\n",
    "with open('book.json', 'r') as f:\n",
    "    book_data = f.read()\n",
    "\n",
    "print(book_data)"
   ]
  },
  {
   "cell_type": "code",
   "execution_count": 7,
   "metadata": {},
   "outputs": [
    {
     "name": "stdout",
     "output_type": "stream",
     "text": [
      "{'tom': {'name': 'Tom', 'address': '123 Main St', 'phone': '555-1234'}, 'jerry': {'name': 'Jerry', 'address': '456 Elm St', 'phone': '555-5678'}, 'spike': {'name': 'Spike', 'address': '789 Oak St', 'phone': '555-9012'}}\n"
     ]
    }
   ],
   "source": [
    "import json\n",
    "book = json.loads(book_data)\n",
    "print(book)"
   ]
  },
  {
   "cell_type": "code",
   "execution_count": 8,
   "metadata": {},
   "outputs": [
    {
     "data": {
      "text/plain": [
       "dict"
      ]
     },
     "execution_count": 8,
     "metadata": {},
     "output_type": "execute_result"
    }
   ],
   "source": [
    "type(book)"
   ]
  },
  {
   "cell_type": "code",
   "execution_count": 11,
   "metadata": {},
   "outputs": [
    {
     "data": {
      "text/plain": [
       "{'name': 'Jerry', 'address': '456 Elm St', 'phone': '555-5678'}"
      ]
     },
     "execution_count": 11,
     "metadata": {},
     "output_type": "execute_result"
    }
   ],
   "source": [
    "book['jerry']"
   ]
  },
  {
   "cell_type": "code",
   "execution_count": 12,
   "metadata": {},
   "outputs": [
    {
     "data": {
      "text/plain": [
       "'555-5678'"
      ]
     },
     "execution_count": 12,
     "metadata": {},
     "output_type": "execute_result"
    }
   ],
   "source": [
    "book['jerry']['phone']"
   ]
  },
  {
   "cell_type": "code",
   "execution_count": 13,
   "metadata": {},
   "outputs": [
    {
     "name": "stdout",
     "output_type": "stream",
     "text": [
      "{'name': 'Tom', 'address': '123 Main St', 'phone': '555-1234'}\n",
      "{'name': 'Jerry', 'address': '456 Elm St', 'phone': '555-5678'}\n",
      "{'name': 'Spike', 'address': '789 Oak St', 'phone': '555-9012'}\n"
     ]
    }
   ],
   "source": [
    "for person in book:\n",
    "    print(book[person])\n",
    "    \n",
    "    "
   ]
  },
  {
   "cell_type": "code",
   "execution_count": null,
   "metadata": {},
   "outputs": [],
   "source": []
  }
 ],
 "metadata": {
  "kernelspec": {
   "display_name": "Python 3",
   "language": "python",
   "name": "python3"
  },
  "language_info": {
   "codemirror_mode": {
    "name": "ipython",
    "version": 3
   },
   "file_extension": ".py",
   "mimetype": "text/x-python",
   "name": "python",
   "nbconvert_exporter": "python",
   "pygments_lexer": "ipython3",
   "version": "3.11.9"
  }
 },
 "nbformat": 4,
 "nbformat_minor": 2
}
