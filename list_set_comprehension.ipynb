{
 "cells": [
  {
   "cell_type": "code",
   "execution_count": null,
   "id": "b8da4031",
   "metadata": {},
   "outputs": [
    {
     "name": "stdout",
     "output_type": "stream",
     "text": [
      "{0: '0', 1: '1', 2: '10', 3: '11', 4: '100'}\n"
     ]
    }
   ],
   "source": [
    "#Dictionary\n",
    "integer = [0,1,2,3,4]\n",
    "binary = ['0','1','10','11','100']\n",
    "\n",
    "z = zip(integer,binary)\n",
    "#z is a zip object\n",
    "#z is an iterator, so we can only iterate through it once\n",
    "\n",
    "binary_dict = {integer:binary for integer, binary in z}\n",
    "print(binary_dict)\n"
   ]
  },
  {
   "cell_type": "code",
   "execution_count": null,
   "id": "57e32b26",
   "metadata": {},
   "outputs": [
    {
     "name": "stdout",
     "output_type": "stream",
     "text": [
      "[-1, 1, -2, -3, -5, 0, 7]\n"
     ]
    }
   ],
   "source": [
    "#List\n",
    "integer = [1,-1,2,3,5,0,-7]\n",
    "additive_inverse = [-1*i for i in integer]\n",
    "print(additive_inverse)"
   ]
  },
  {
   "cell_type": "code",
   "execution_count": 3,
   "id": "c6a6aecd",
   "metadata": {},
   "outputs": [
    {
     "name": "stdout",
     "output_type": "stream",
     "text": [
      "{0, 1, 4, 9, 49, 25}\n"
     ]
    }
   ],
   "source": [
    "#Set\n",
    "integer = [1,-1,2,3,5,0,-7]\n",
    "sq_set = {i**2 for i in integer}\n",
    "print(sq_set)\n"
   ]
  },
  {
   "cell_type": "code",
   "execution_count": null,
   "id": "1421e860",
   "metadata": {},
   "outputs": [],
   "source": []
  }
 ],
 "metadata": {
  "kernelspec": {
   "display_name": "Python 3",
   "language": "python",
   "name": "python3"
  },
  "language_info": {
   "codemirror_mode": {
    "name": "ipython",
    "version": 3
   },
   "file_extension": ".py",
   "mimetype": "text/x-python",
   "name": "python",
   "nbconvert_exporter": "python",
   "pygments_lexer": "ipython3",
   "version": "3.11.9"
  }
 },
 "nbformat": 4,
 "nbformat_minor": 5
}
