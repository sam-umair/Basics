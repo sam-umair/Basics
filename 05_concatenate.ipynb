{
 "cells": [
  {
   "cell_type": "code",
   "execution_count": 2,
   "metadata": {},
   "outputs": [],
   "source": [
    "import pandas as pd"
   ]
  },
  {
   "cell_type": "code",
   "execution_count": 8,
   "metadata": {},
   "outputs": [
    {
     "name": "stdout",
     "output_type": "stream",
     "text": [
      "     Name  Age\n",
      "0   Ahmad   26\n",
      "1   Manha   29\n",
      "2     Ali   31\n",
      "0  Ayesha   25\n",
      "1    Sara   15\n",
      "2    Amar   18\n",
      "    Name  Age    Name  Age\n",
      "0  Ahmad   26  Ayesha   25\n",
      "1  Manha   29    Sara   15\n",
      "2    Ali   31    Amar   18\n"
     ]
    }
   ],
   "source": [
    "data1 = {'Name':['Ahmad','Manha','Ali'], 'Age': [26,29,31]}\n",
    "\n",
    "data2 = {'Name':['Ayesha','Sara','Amar'], 'Age': [25,15,18]}\n",
    "\n",
    "data3 = {'City':['karachi','lahore','Islamabad'], 'Province':['Sindh','Punjab','Punjab']}\n",
    "\n",
    "df1 = pd.DataFrame(data1)\n",
    "df2 = pd.DataFrame(data2)\n",
    "df3 = pd.DataFrame(data3)\n",
    "\n",
    "concatenated_rows = pd.concat([df1,df2])\n",
    "\n",
    "concatenated_columns = pd.concat([df1,df2], axis=1)\n",
    " \n",
    "print(concatenated_rows)\n",
    "\n",
    "print(concatenated_columns)\n"
   ]
  },
  {
   "cell_type": "code",
   "execution_count": null,
   "metadata": {},
   "outputs": [],
   "source": []
  }
 ],
 "metadata": {
  "kernelspec": {
   "display_name": "Python 3",
   "language": "python",
   "name": "python3"
  },
  "language_info": {
   "codemirror_mode": {
    "name": "ipython",
    "version": 3
   },
   "file_extension": ".py",
   "mimetype": "text/x-python",
   "name": "python",
   "nbconvert_exporter": "python",
   "pygments_lexer": "ipython3",
   "version": "3.13.0"
  }
 },
 "nbformat": 4,
 "nbformat_minor": 2
}
